{
 "cells": [
  {
   "cell_type": "code",
   "execution_count": 2,
   "metadata": {},
   "outputs": [
    {
     "data": {
      "text/html": [
       "<p>To authorize access needed by Earth Engine, open the following\n",
       "        URL in a web browser and follow the instructions:</p>\n",
       "        <p><a href=https://code.earthengine.google.com/client-auth?scopes=https%3A//www.googleapis.com/auth/earthengine%20https%3A//www.googleapis.com/auth/devstorage.full_control&request_id=1-LfnBCsPEr0PZyrO8PXW4ntQf9PlggfTyQGBuV-tdc&tc=fI1HDumgAsQrfPcc1XshVhfkRBxmJ21wFi4y30B5jbs&cc=wWjzODMaedUHsm06yozus9OwyW9WaRFFStecyM3ywmg>https://code.earthengine.google.com/client-auth?scopes=https%3A//www.googleapis.com/auth/earthengine%20https%3A//www.googleapis.com/auth/devstorage.full_control&request_id=1-LfnBCsPEr0PZyrO8PXW4ntQf9PlggfTyQGBuV-tdc&tc=fI1HDumgAsQrfPcc1XshVhfkRBxmJ21wFi4y30B5jbs&cc=wWjzODMaedUHsm06yozus9OwyW9WaRFFStecyM3ywmg</a></p>\n",
       "        <p>The authorization workflow will generate a code, which you should paste in the box below.</p>\n",
       "        "
      ],
      "text/plain": [
       "<IPython.core.display.HTML object>"
      ]
     },
     "metadata": {},
     "output_type": "display_data"
    }
   ],
   "source": [
    "import ee\n",
    "ee.Authenticate()\n",
    "# Initialize the Earth Engine API\n",
    "ee.Initialize()\n",
    "\n",
    "# Define the maskS2clouds function\n",
    "def maskS2clouds(image):\n",
    "    qa = image.select('QA60')\n",
    "    \n",
    "    # Bits 10 and 11 are clouds and cirrus, respectively.\n",
    "    cloudBitMask = 1 << 10\n",
    "    cirrusBitMask = 1 << 11\n",
    "    \n",
    "    # Both flags should be set to zero, indicating clear conditions.\n",
    "    mask = qa.bitwiseAnd(cloudBitMask).eq(0).And(qa.bitwiseAnd(cirrusBitMask).eq(0))\n",
    "    \n",
    "    return image.updateMask(mask).divide(10000)\n",
    "\n",
    "# Load the Sentinel-2 image collection and apply the mask\n",
    "dataset = (ee.ImageCollection('COPERNICUS/S2_SR_HARMONIZED')\n",
    "           .filterDate('2020-01-01', '2020-01-30')\n",
    "           .filter(ee.Filter.lt('CLOUDY_PIXEL_PERCENTAGE', 20))\n",
    "           .map(maskS2clouds))\n",
    "\n",
    "# Define the visualization parameters\n",
    "visualization = {\n",
    "    'min': 0.0,\n",
    "    'max': 0.3,\n",
    "    'bands': ['B4', 'B3', 'B2'],\n",
    "}\n",
    "\n",
    "# Set the map center and add the layer to the map\n",
    "Map = ee.Image(dataset.mean())\n",
    "Map.setCenter(83.277, 17.7009, 12)\n",
    "Map.addLayer(Map, visualization, 'RGB')\n",
    "\n",
    "# Open the map in the Code Editor (if using the GEE Code Editor)\n",
    "# Map\n"
   ]
  },
  {
   "cell_type": "code",
   "execution_count": 3,
   "metadata": {},
   "outputs": [
    {
     "name": "stdout",
     "output_type": "stream",
     "text": [
      "Wind Speed for 2023-09-21: 11 km/h\n"
     ]
    }
   ],
   "source": [
    "import requests\n",
    "from datetime import datetime, timedelta\n",
    "\n",
    "# Replace 'your_api_key' with your Weatherstack API key\n",
    "API_KEY = '5d945703771fb95e6a001452f9adb19e'\n",
    "\n",
    "# Specify the location for which you want the forecast (e.g., 'New York,US')\n",
    "location = 'New York,US'\n",
    "\n",
    "# Calculate the date for the next day\n",
    "tomorrow = datetime.now() + timedelta(days=1)\n",
    "tomorrow_date = tomorrow.strftime('%Y-%m-%d')\n",
    "\n",
    "# Define the Weatherstack API endpoint URL\n",
    "url = f'http://api.weatherstack.com/forecast?access_key={API_KEY}&query={location}&forecast_date={tomorrow_date}'\n",
    "\n",
    "# Make the API request\n",
    "response = requests.get(url)\n",
    "\n",
    "if response.status_code == 200:\n",
    "    data = response.json()\n",
    "    \n",
    "   # Extract the wind speed from the API response\n",
    "    wind_speed_kmph = data['current']['wind_speed']\n",
    "    \n",
    "    print(f\"Wind Speed for {tomorrow_date}: {wind_speed_kmph} km/h\")\n",
    "else:\n",
    "    print(f\"Error: Unable to fetch data. Status code {response.status_code}\")"
   ]
  }
 ],
 "metadata": {
  "kernelspec": {
   "display_name": "Python 3",
   "language": "python",
   "name": "python3"
  },
  "language_info": {
   "codemirror_mode": {
    "name": "ipython",
    "version": 3
   },
   "file_extension": ".py",
   "mimetype": "text/x-python",
   "name": "python",
   "nbconvert_exporter": "python",
   "pygments_lexer": "ipython3",
   "version": "3.9.0"
  },
  "orig_nbformat": 4
 },
 "nbformat": 4,
 "nbformat_minor": 2
}
